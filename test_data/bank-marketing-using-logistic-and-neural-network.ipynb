{
 "cells": [
  {
   "cell_type": "code",
   "execution_count": null,
   "metadata": {
    "_uuid": "8f2839f25d086af736a60e9eeb907d3b93b6e0e5",
    "_cell_guid": "b1076dfc-b9ad-4769-8c92-a6c4dae69d19",
    "trusted": true,
    "_kg_hide-output": true
   },
   "outputs": [],
   "source": [
    "## This is my first kernel, any comment is very appreciatable. \n",
    "\n",
    "import pandas as pd\n",
    "import numpy as np\n",
    "import matplotlib.pyplot as plt\n",
    "import seaborn as sns"
   ]
  },
  {
   "cell_type": "code",
   "execution_count": null,
   "metadata": {
    "_cell_guid": "79c7e3d0-c299-4dcb-8224-4455121ee9b0",
    "_uuid": "d629ff2d2480ee46fbb7e2d37f6b5fab8052498a",
    "trusted": true
   },
   "outputs": [],
   "source": [
    "#Importing dataset \n",
    "data = pd.read_csv(\"../input/bank.csv\")\n",
    "#Reading the only 5 rows of the dataset\n",
    "data.head()"
   ]
  },
  {
   "cell_type": "code",
   "execution_count": null,
   "metadata": {
    "trusted": true,
    "_uuid": "cc898dc07d79a9e855011324bced8f2c36be5491"
   },
   "outputs": [],
   "source": [
    "#Describe function gives the basic stats value of the dataset\n",
    "'''Their are no missing values in the data, if any fill them with mean, median or mode.'''\n",
    "\n",
    "data.describe()"
   ]
  },
  {
   "cell_type": "code",
   "execution_count": null,
   "metadata": {
    "trusted": true,
    "_uuid": "076267be05974dcd3a6bdfeb58b501db9b8d859e"
   },
   "outputs": [],
   "source": [
    "##Ploting the dataset using seaborn which is one of the best ways to visualize your data\n",
    "## I hvae just showed different seaborn plots , you can play with them different variables\n",
    "sns.set(style=\"ticks\", color_codes=True)\n",
    "##scatter plot\n",
    "sns.stripplot(x=\"job\", y=\"duration\", data=data)\n",
    "sns.catplot(x=\"job\", y=\"duration\", kind = \"swarm\", data=data)"
   ]
  },
  {
   "cell_type": "code",
   "execution_count": null,
   "metadata": {
    "trusted": true,
    "_uuid": "98d9646b24825f2e7bf8979e83601f109a90be4f"
   },
   "outputs": [],
   "source": [
    "##Distribution plot"
   ]
  },
  {
   "cell_type": "code",
   "execution_count": null,
   "metadata": {
    "trusted": true,
    "_uuid": "bd6781c571924e6ee63c4f4b909058b677ccedda"
   },
   "outputs": [],
   "source": [
    "sns.boxplot(x=\"job\", y=\"duration\", data=data)\n"
   ]
  },
  {
   "cell_type": "code",
   "execution_count": null,
   "metadata": {
    "trusted": true,
    "_uuid": "357d8c26302a7608bdfdf829fe96e1840334678a"
   },
   "outputs": [],
   "source": [
    "sns.violinplot(x=\"job\", y=\"duration\", data=data)\n"
   ]
  },
  {
   "cell_type": "code",
   "execution_count": null,
   "metadata": {
    "trusted": true,
    "_uuid": "98b0e82b20ed7a34050b412214522946a369d214"
   },
   "outputs": [],
   "source": [
    "sns.boxenplot(x=\"contact\", y=\"age\", data=data)"
   ]
  },
  {
   "cell_type": "code",
   "execution_count": null,
   "metadata": {
    "trusted": true,
    "_uuid": "0987650cdf4191602242afebd4310abbe8f83f50"
   },
   "outputs": [],
   "source": [
    "##estimate plot\n",
    "sns.pointplot(x=\"job\", y=\"duration\", data=data)"
   ]
  },
  {
   "cell_type": "code",
   "execution_count": null,
   "metadata": {
    "trusted": true,
    "_uuid": "3ec077a18001c4d6b2b3390ae777bf0a9317d899"
   },
   "outputs": [],
   "source": [
    "sns.barplot(x=\"age\", y=\"job\", data=data)"
   ]
  },
  {
   "cell_type": "code",
   "execution_count": null,
   "metadata": {
    "trusted": true,
    "_uuid": "d315d1935ac1bf6df07c07c15c8b89aeb1e49d5d"
   },
   "outputs": [],
   "source": [
    "data['age'].describe()"
   ]
  },
  {
   "cell_type": "code",
   "execution_count": null,
   "metadata": {
    "trusted": true,
    "_uuid": "d8cdda3199372c651a3b7c0be2d698378d4bddb3"
   },
   "outputs": [],
   "source": [
    "data.columns"
   ]
  },
  {
   "cell_type": "code",
   "execution_count": null,
   "metadata": {
    "trusted": true,
    "_uuid": "340d0b1c3533254bdc3e21941322c69600f8587b"
   },
   "outputs": [],
   "source": [
    "## Checking for catogorical variable \n",
    "data['education'].unique()"
   ]
  },
  {
   "cell_type": "code",
   "execution_count": null,
   "metadata": {
    "trusted": true,
    "_uuid": "cfb9a49033ac896ba2a74a5f23dc24fa39ea789c"
   },
   "outputs": [],
   "source": [
    "data['marital'].unique()"
   ]
  },
  {
   "cell_type": "code",
   "execution_count": null,
   "metadata": {
    "trusted": true,
    "_uuid": "ca2064dbeb043fe89f944700e099ab129f538f9c"
   },
   "outputs": [],
   "source": [
    "##Ploting the count of marital and education\n",
    "values = data['marital'].value_counts().tolist()\n",
    "labels = ['married', 'divorced', 'single']"
   ]
  },
  {
   "cell_type": "code",
   "execution_count": null,
   "metadata": {
    "trusted": true,
    "_uuid": "4548e7a879348a5dee8e3c0e2e266ae42b650aa7"
   },
   "outputs": [],
   "source": [
    "val = data['education'].value_counts().tolist()\n",
    "lab = ['secondary', 'tertiary', 'primary', 'unknown']"
   ]
  },
  {
   "cell_type": "code",
   "execution_count": null,
   "metadata": {
    "trusted": true,
    "_uuid": "793ceb8cfb0bdce85efca2e8b40c93668cf2e059"
   },
   "outputs": [],
   "source": [
    "sns.barplot(x=labels, y=values, data=data)\n",
    "plt.title(\"Count by Marital Status\")\n",
    "plt.show()"
   ]
  },
  {
   "cell_type": "code",
   "execution_count": null,
   "metadata": {
    "trusted": true,
    "_uuid": "77f0472cd1f7e1db5c2410b6b7924d572aa00556"
   },
   "outputs": [],
   "source": [
    "sns.barplot(x=lab, y=val, data=data)\n",
    "plt.title(\"Count by Education Status\")\n",
    "plt.show()"
   ]
  },
  {
   "cell_type": "code",
   "execution_count": null,
   "metadata": {
    "trusted": true,
    "_uuid": "0b800111717034218d7e99939bb49890fe6fd45c"
   },
   "outputs": [],
   "source": [
    "##Pair ploting \n",
    "\n",
    "sns.set(style=\"ticks\")\n",
    "sns.pairplot(data, palette=\"Set1\")\n",
    "plt.show()"
   ]
  },
  {
   "cell_type": "code",
   "execution_count": null,
   "metadata": {
    "trusted": true,
    "_uuid": "090911645b77ee7142c450cfd4d56bd19ece3439"
   },
   "outputs": [],
   "source": [
    "## Now seperate the dependant and inpedepandant variable before proceeding\n",
    "\n",
    "X = data.iloc[:, 0:16]\n",
    "Y = data.iloc[:, 16]"
   ]
  },
  {
   "cell_type": "code",
   "execution_count": null,
   "metadata": {
    "trusted": true,
    "_uuid": "06e577df472330eb785891796e07c11a2eb6ffed"
   },
   "outputs": [],
   "source": [
    "X"
   ]
  },
  {
   "cell_type": "code",
   "execution_count": null,
   "metadata": {
    "trusted": true,
    "_uuid": "541d4943b080a5463ec99a75e44c9355e7bfb0ef"
   },
   "outputs": [],
   "source": [
    "Y"
   ]
  },
  {
   "cell_type": "code",
   "execution_count": null,
   "metadata": {
    "trusted": true,
    "_uuid": "03d07942edb84ba45ac72a915d99aeeb8f1fb487"
   },
   "outputs": [],
   "source": [
    "#Splitting the catagorical variable to 0s and 1s using LabelEncoder\n",
    "from sklearn.preprocessing import LabelEncoder, OneHotEncoder\n",
    "LabelEncoder().fit_transform(['no','yes'])\n",
    "housing = LabelEncoder().fit_transform(X['housing'])\n",
    "loan = LabelEncoder().fit_transform(X['loan'])\n",
    "deposit = LabelEncoder().fit_transform(Y)\n",
    "job = LabelEncoder().fit_transform(X['job'])\n",
    "marital = LabelEncoder().fit_transform(X['marital'])\n",
    "education = LabelEncoder().fit_transform(X['education'])\n",
    "poutcome = LabelEncoder().fit_transform(X['poutcome'])"
   ]
  },
  {
   "cell_type": "code",
   "execution_count": null,
   "metadata": {
    "trusted": true,
    "scrolled": true,
    "_uuid": "8c6a0d4c93160eaa53adafc6171211a5985ef6ba"
   },
   "outputs": [],
   "source": [
    "X['housing'] = housing\n",
    "X['loan']= loan\n",
    "X['job'] = job\n",
    "X['marital']=marital\n",
    "X['education']=education\n",
    "X['poutcome']=poutcome\n",
    "Y=deposit\n",
    "del X['month']\n",
    "del X['day']\n",
    "del X['contact']\n",
    "del X['default']\n",
    "\n"
   ]
  },
  {
   "cell_type": "code",
   "execution_count": null,
   "metadata": {
    "trusted": true,
    "_uuid": "2db5abbd17f5791322206b58cf2d3b9c18511e0d"
   },
   "outputs": [],
   "source": [
    "X"
   ]
  },
  {
   "cell_type": "code",
   "execution_count": null,
   "metadata": {
    "trusted": true,
    "_uuid": "de3aef32a949070c707d5f4c782e9b4f204af3dc"
   },
   "outputs": [],
   "source": [
    "Y"
   ]
  },
  {
   "cell_type": "code",
   "execution_count": null,
   "metadata": {
    "trusted": true,
    "_uuid": "7a26bd25e5050ec36c2e916fb10210a0a946ef17"
   },
   "outputs": [],
   "source": [
    "X.shape"
   ]
  },
  {
   "cell_type": "code",
   "execution_count": null,
   "metadata": {
    "trusted": true,
    "_uuid": "6f573523bff846d8047ec7986a84345ceb42714e"
   },
   "outputs": [],
   "source": [
    "Y.shape"
   ]
  },
  {
   "cell_type": "code",
   "execution_count": null,
   "metadata": {
    "trusted": true,
    "_uuid": "a1cbb145b81177fe5d60ad3870533952b9e36eec"
   },
   "outputs": [],
   "source": [
    "onehotencoder = OneHotEncoder(categorical_features = [1,2,3,11])\n",
    "X = onehotencoder.fit_transform(X).toarray()"
   ]
  },
  {
   "cell_type": "code",
   "execution_count": null,
   "metadata": {
    "trusted": true,
    "_uuid": "099c463fa48cac3ba1e9cda337bf50ea9947e765"
   },
   "outputs": [],
   "source": [
    "X"
   ]
  },
  {
   "cell_type": "code",
   "execution_count": null,
   "metadata": {
    "trusted": true,
    "_uuid": "deb1584588660cad03ad2665cfc5fc15e4e3e0bc"
   },
   "outputs": [],
   "source": [
    "X.shape"
   ]
  },
  {
   "cell_type": "code",
   "execution_count": null,
   "metadata": {
    "trusted": true,
    "_uuid": "efbe6500ae00bc85b52ee0466a1cf444ddaf41c5"
   },
   "outputs": [],
   "source": [
    "## PLoting housing vs deposit shows us a clear view how many people have deposited interms of hosuing \n",
    "sns.barplot(x=deposit, y=housing, data= data)\n",
    "plt.xlabel(\"number of people deposit\")\n",
    "plt.ylabel(\"Housing\")\n",
    "plt.title(\"Deposit vs Housing\")\n",
    "plt.show()"
   ]
  },
  {
   "cell_type": "code",
   "execution_count": null,
   "metadata": {
    "trusted": true,
    "_uuid": "43041da0c8cb1e7a7eeaa6f14616761549b39d88"
   },
   "outputs": [],
   "source": [
    "### This plot bet loan vs deposit has shown 83% has not deposited and 17% remaining have deposits \n",
    "#which gives a weight to output. \n",
    "sns.barplot(x=deposit, y=loan, data= data)\n",
    "plt.xlabel(\"number of people deposit\")\n",
    "plt.ylabel(\"Loans Taken\")\n",
    "plt.title(\"Deposit vs Loans\")\n",
    "plt.show()"
   ]
  },
  {
   "cell_type": "code",
   "execution_count": null,
   "metadata": {
    "trusted": true,
    "_uuid": "e2e78fb6270b148e6f1e4f5aa84de8bc4b6a2f98"
   },
   "outputs": [],
   "source": [
    "## spliting the data into train and test\n",
    "from sklearn.model_selection import train_test_split\n",
    "X_train, X_test, y_train, y_test = train_test_split(X,Y, test_size = 0.2, random_state = 123)\n"
   ]
  },
  {
   "cell_type": "code",
   "execution_count": null,
   "metadata": {
    "trusted": true,
    "_uuid": "7f5219cbb140c2ef21808a31d1e4eeb58fc0d2ca"
   },
   "outputs": [],
   "source": [
    "##Feature scaling \n",
    "\n",
    "from sklearn.preprocessing import StandardScaler\n",
    "sc = StandardScaler()\n",
    "X_train = sc.fit_transform(X_train)\n",
    "X_test = sc.fit_transform(X_test)"
   ]
  },
  {
   "cell_type": "code",
   "execution_count": null,
   "metadata": {
    "trusted": true,
    "_uuid": "11bdd4566c8eec9b79786b9d54259873e942513d"
   },
   "outputs": [],
   "source": [
    "X_train"
   ]
  },
  {
   "cell_type": "code",
   "execution_count": null,
   "metadata": {
    "trusted": true,
    "_uuid": "bb265fd23cc71d5f5be87c3f8bfd9f353304ad7b"
   },
   "outputs": [],
   "source": [
    "X_test"
   ]
  },
  {
   "cell_type": "code",
   "execution_count": null,
   "metadata": {
    "trusted": true,
    "_uuid": "02d898e0108a47abbdbf8027d7424c17b5763ca0"
   },
   "outputs": [],
   "source": [
    "### for model selection\n",
    "from sklearn.linear_model import LogisticRegression\n",
    "from sklearn.svm import SVC\n",
    "from sklearn.neighbors import KNeighborsClassifier\n",
    "from sklearn.ensemble import GradientBoostingClassifier\n",
    "from sklearn import tree\n",
    "from sklearn.neural_network import MLPClassifier"
   ]
  },
  {
   "cell_type": "code",
   "execution_count": null,
   "metadata": {
    "trusted": true,
    "_uuid": "77085e58dcbb84ed918920b03ceb4f6d85b39d2f"
   },
   "outputs": [],
   "source": [
    "svm = SVC()\n",
    "knn = KNeighborsClassifier(n_neighbors=5)\n",
    "lr = LogisticRegression()\n",
    "grad_clf = GradientBoostingClassifier()\n",
    "tree_clf = tree.DecisionTreeClassifier()\n",
    "neural_clf = MLPClassifier(alpha=1)"
   ]
  },
  {
   "cell_type": "code",
   "execution_count": null,
   "metadata": {
    "trusted": true,
    "_uuid": "99402f36a1346725bbd09c81aeaa4af70f1d91d1"
   },
   "outputs": [],
   "source": [
    "from sklearn.model_selection import cross_val_score\n",
    "log_scores = cross_val_score(lr, X_train, y_train, cv=3)\n",
    "log_reg_mean = log_scores.mean()"
   ]
  },
  {
   "cell_type": "code",
   "execution_count": null,
   "metadata": {
    "trusted": true,
    "_uuid": "3c8b56bb389303184187577f533e3ec3c1f3539d"
   },
   "outputs": [],
   "source": [
    "log_reg_mean"
   ]
  },
  {
   "cell_type": "code",
   "execution_count": null,
   "metadata": {
    "trusted": true,
    "_uuid": "ce455d56e54fe3939e5f788bed5fea0e81100b96"
   },
   "outputs": [],
   "source": [
    "knn_scores = cross_val_score(knn, X_train, y_train, cv=3)\n",
    "knn_mean = knn_scores.mean()"
   ]
  },
  {
   "cell_type": "code",
   "execution_count": null,
   "metadata": {
    "trusted": true,
    "_uuid": "88ea638e3c45d692af79119f4f276fe7f417a854"
   },
   "outputs": [],
   "source": [
    "knn_mean"
   ]
  },
  {
   "cell_type": "code",
   "execution_count": null,
   "metadata": {
    "trusted": true,
    "_uuid": "e4e9a1eb269fed60f04393c3a0b33350f44373a3"
   },
   "outputs": [],
   "source": [
    "grad_scores = cross_val_score(grad_clf, X_train, y_train, cv=3)\n",
    "grad_mean = grad_scores.mean()"
   ]
  },
  {
   "cell_type": "code",
   "execution_count": null,
   "metadata": {
    "trusted": true,
    "_uuid": "bee9f3369a8342aa5488b0843bdd3f67da12c9cb"
   },
   "outputs": [],
   "source": [
    "grad_mean"
   ]
  },
  {
   "cell_type": "code",
   "execution_count": null,
   "metadata": {
    "trusted": true,
    "_uuid": "536688c1fc3b5ccaf844b8876f5798dc5ce1b506"
   },
   "outputs": [],
   "source": [
    "tree_scores = cross_val_score(tree_clf, X_train, y_train, cv=3)\n",
    "tree_mean = tree_scores.mean()"
   ]
  },
  {
   "cell_type": "code",
   "execution_count": null,
   "metadata": {
    "trusted": true,
    "_uuid": "ed8b798e6fe504344ca7319b8df69597973e9470"
   },
   "outputs": [],
   "source": [
    "tree_mean"
   ]
  },
  {
   "cell_type": "code",
   "execution_count": null,
   "metadata": {
    "trusted": true,
    "_uuid": "bf0a05bff2157acccff139d1914d95d363e6a037"
   },
   "outputs": [],
   "source": [
    "neural_scores = cross_val_score(neural_clf, X_train, y_train, cv=3)\n",
    "neural_mean = neural_scores.mean()"
   ]
  },
  {
   "cell_type": "code",
   "execution_count": null,
   "metadata": {
    "trusted": true,
    "_uuid": "a91d1079ded2c73f342d35cd7ee7fa5aeee0f8c3"
   },
   "outputs": [],
   "source": [
    "neural_mean"
   ]
  },
  {
   "cell_type": "code",
   "execution_count": null,
   "metadata": {
    "trusted": true,
    "_uuid": "0e6fa292398172f5d8ec48b509c8ba877675d94a"
   },
   "outputs": [],
   "source": [
    "##Stocastic gradient decent\n",
    "from sklearn.linear_model import SGDClassifier\n",
    "\n",
    "sgd = SGDClassifier(n_iter=10000, alpha=0.03)\n",
    "sgd.fit(X_train,y_train)\n",
    "\n",
    "sgd.score(X_test,y_test)"
   ]
  },
  {
   "cell_type": "code",
   "execution_count": null,
   "metadata": {
    "trusted": true,
    "_uuid": "7e26662fdb8f9440e6bcacbc76f40ea1fa1a8327"
   },
   "outputs": [],
   "source": [
    "from sklearn.model_selection import cross_val_predict\n",
    "\n",
    "cross_val_predict(grad_clf,X_test,y_test).mean()"
   ]
  },
  {
   "cell_type": "code",
   "execution_count": null,
   "metadata": {
    "trusted": true,
    "_uuid": "f957cbf9a044e2c2f23dbb8ced38cf0d3503ebc8"
   },
   "outputs": [],
   "source": [
    "##Fitting the model to the test set \n",
    "knn.fit(X_train,y_train)\n",
    "\n",
    "knn.score(X_test,y_test)"
   ]
  },
  {
   "cell_type": "code",
   "execution_count": null,
   "metadata": {
    "trusted": true,
    "_uuid": "33f8956a04156e3cbf286de2c1cac5c74d755fcb"
   },
   "outputs": [],
   "source": [
    "svm.fit(X_train,y_train)\n",
    "svm.score(X_test,y_test)"
   ]
  },
  {
   "cell_type": "code",
   "execution_count": null,
   "metadata": {
    "trusted": true,
    "_uuid": "144b1ab346d4f58356d4586f8498378c8e9b258a"
   },
   "outputs": [],
   "source": [
    "### Creating a confusion matrix\n",
    "from sklearn.metrics import confusion_matrix\n",
    "\n",
    "y_pred = cross_val_predict(neural_clf,X_test,y_test,cv=4)\n",
    "conf = confusion_matrix(y_test,y_pred)"
   ]
  },
  {
   "cell_type": "code",
   "execution_count": null,
   "metadata": {
    "trusted": true,
    "_uuid": "04b8c92b2d1f9e224e738c2d9919dc8ca09170ae"
   },
   "outputs": [],
   "source": [
    "conf"
   ]
  },
  {
   "cell_type": "code",
   "execution_count": null,
   "metadata": {
    "trusted": true,
    "_uuid": "fd3beed6e78ae60caaf438e3f6f78216a0645c3c"
   },
   "outputs": [],
   "source": [
    "f, ax = plt.subplots(figsize=(12, 8))\n",
    "sns.heatmap(conf, annot=True, fmt=\"d\", linewidths=.5, ax=ax)\n",
    "plt.title(\"Confusion Matrix\", fontsize=20)\n",
    "plt.subplots_adjust(left=0.15, right=0.99, bottom=0.15, top=0.99)\n",
    "ax.set_yticks(np.arange(conf.shape[0]) + 0.5, minor=False)\n",
    "ax.set_xticklabels(\"\")\n",
    "ax.set_yticklabels(['Refused T. Deposits', 'Accepted T. Deposits'], fontsize=16, rotation=360)\n",
    "plt.show()"
   ]
  },
  {
   "cell_type": "code",
   "execution_count": null,
   "metadata": {
    "trusted": true,
    "_uuid": "b9010993ddbea53c7a63aae64e937fd24dd4f7c5"
   },
   "outputs": [],
   "source": [
    "### Its very important to check recall, precision, accuracy and F1 score\n",
    "from sklearn.metrics import precision_score,recall_score,f1_score\n",
    "\n",
    "\n",
    "recall_score(y_test,y_pred)"
   ]
  },
  {
   "cell_type": "code",
   "execution_count": null,
   "metadata": {
    "trusted": true,
    "_uuid": "6c6bc8e6d73e2bdcfbf31097be3c9228fa99e499"
   },
   "outputs": [],
   "source": [
    "precision_score(y_test,y_pred)\n"
   ]
  },
  {
   "cell_type": "code",
   "execution_count": null,
   "metadata": {
    "trusted": true,
    "_uuid": "de1f22daa5fbd19b5de05d14d741faba38c33fd0"
   },
   "outputs": [],
   "source": [
    "f1_score(y_test,y_pred)"
   ]
  },
  {
   "cell_type": "code",
   "execution_count": null,
   "metadata": {
    "trusted": true,
    "_uuid": "c9e1e2b028ec259dad83abed0928321f6d48109c"
   },
   "outputs": [],
   "source": [
    "## XG boosting is very good model to boost your model accuracy \n",
    "##Boostig algorithm XGBoost\n",
    "import xgboost as xgb\n",
    "\n",
    "cl = xgb.XGBClassifier(max_depth=4,n_estimators=20)\n",
    "\n",
    "cl.fit(X_train,y_train)\n",
    "\n",
    "y_xg = cl.predict(X_test)"
   ]
  },
  {
   "cell_type": "code",
   "execution_count": null,
   "metadata": {
    "trusted": true,
    "_uuid": "59037f2a28e37ea5a566fa16949bcc1f6505a6c4"
   },
   "outputs": [],
   "source": [
    "from sklearn.metrics import accuracy_score,precision_recall_fscore_support\n",
    "\n",
    "accuracy_score(y_test,y_xg)"
   ]
  }
 ],
 "metadata": {
  "kernelspec": {
   "display_name": "Python 3",
   "language": "python",
   "name": "python3"
  },
  "language_info": {
   "name": "python",
   "version": "3.6.6",
   "mimetype": "text/x-python",
   "codemirror_mode": {
    "name": "ipython",
    "version": 3
   },
   "pygments_lexer": "ipython3",
   "nbconvert_exporter": "python",
   "file_extension": ".py"
  }
 },
 "nbformat": 4,
 "nbformat_minor": 1
}
