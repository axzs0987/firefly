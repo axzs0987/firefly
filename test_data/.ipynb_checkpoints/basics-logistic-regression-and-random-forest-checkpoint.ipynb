{
 "cells": [
  {
   "cell_type": "markdown",
   "metadata": {
    "_uuid": "00fab4d969703c8f7946d5281867332ce2a65701"
   },
   "source": [
    "# Intro\n",
    "\n",
    "This dataset is from https://www.kaggle.com/shebrahimi/financial-distress.\n",
    "\n",
    "The goal is to predict whether a currently healthy company will become distressed, before it becomes distressed.\n",
    "\n",
    "We'll use **F-1 score** as our main evaluation metric to deal with the unbalanced set. \n",
    "\n",
    "We'll pay particular attention to **recall** (of all companies that truly do become distressed, how often can we predict their distress before they become distressed?). \n",
    "\n",
    "We can imagine that if this model were being used to guide investment choices or loans, it would be much more costly to accidentally classify a bad company as a good one (false negative - make a type II error) than to miss out on a good company because we falsely thought it was distress-prone.\n",
    "\n",
    "Note that this desire to avoid type II errors (with regards to being afraid of failing to identify \"badness\") is characteristic of many processes (companies that hire elite talent, universities with high admissions standards, highly-regarded VC firms)."
   ]
  },
  {
   "cell_type": "code",
   "execution_count": null,
   "metadata": {
    "_uuid": "ba48861795b54069de45ff856fef1ea0f3de5c85"
   },
   "outputs": [],
   "source": [
    "# Basics\n",
    "import sys\n",
    "import pandas as pd\n",
    "import numpy as np\n",
    "%matplotlib inline\n",
    "\n",
    "# Imports for data loading\n",
    "# import psycopg2\n",
    "# import sqlalchemy\n",
    "# import imp\n",
    "# import os\n",
    "\n",
    "# Sklearn imports\n",
    "from sklearn.preprocessing import LabelBinarizer\n",
    "from sklearn.preprocessing import StandardScaler, MinMaxScaler\n",
    "from sklearn.metrics import f1_score, recall_score\n",
    "from sklearn.metrics import confusion_matrix\n",
    "\n",
    "from sklearn.model_selection import TimeSeriesSplit"
   ]
  },
  {
   "cell_type": "code",
   "execution_count": null,
   "metadata": {
    "_uuid": "2c0d8e1cae54213863972d539b622421ba0110c8"
   },
   "outputs": [],
   "source": [
    "# secrets_filepath = '/home/casey/secrets.py'\n",
    "# secrets = imp.load_source('secrets', secrets_filepath)\n",
    "\n",
    "# # Postgres connection info\n",
    "# POSTGRES_ADDRESS = secrets.psql_ad\n",
    "# POSTGRES_PORT = secrets.psql_port\n",
    "# POSTGRES_USERNAME = secrets.psql_username\n",
    "# POSTGRES_DBNAME = secrets.psql_db\n",
    "# POSTGRES_PASSWORD = secrets.psql_pw\n",
    "\n",
    "# # Form string\n",
    "# postgres_str = ('postgresql://{username}:{password}@{ipaddress}:{port}/{dbname}'\n",
    "#                 .format(username=POSTGRES_USERNAME, \n",
    "#                         password=POSTGRES_PASSWORD, \n",
    "#                         ipaddress=POSTGRES_ADDRESS, \n",
    "#                         port=POSTGRES_PORT, \n",
    "#                         dbname=POSTGRES_DBNAME)) \n",
    "\n",
    "# # Make connection\n",
    "# cnx = sqlalchemy.create_engine(postgres_str)"
   ]
  },
  {
   "cell_type": "markdown",
   "metadata": {
    "_uuid": "b86ae6cacafe258b33406cd614437334ef243717"
   },
   "source": [
    "# Loading Data\n",
    "\n",
    "I've loaded this into my local PostgreSQL db, but this can easily be replaced with a load from the csv file."
   ]
  },
  {
   "cell_type": "code",
   "execution_count": null,
   "metadata": {
    "_uuid": "79ede1cd77b644eb86e231f654606cba0336ab5b"
   },
   "outputs": [],
   "source": [
    "# companies = pd.read_sql_query('''SELECT * from casey;''', cnx)\n",
    "\n",
    "### UNCOMMENT BELOW TO LOAD FROM FILE ###\n",
    "\n",
    "companies = pd.read_csv('../input/Financial Distress.csv')\n",
    "companies.rename(index=str, columns={\"Company\": \"company\", \"Time\": \"time\", \"Financial Distress\": \"financial_distress\"}, inplace=True)"
   ]
  },
  {
   "cell_type": "markdown",
   "metadata": {
    "_uuid": "c922eb5f62a8eca2ed40743ac45c23b5a5e63b22"
   },
   "source": [
    "The Kaggle description tells us that if the number in the **financal_distress** column < -0.5, the company should be considered distressed. \n",
    "\n",
    "We can imagine that this might be a financial ratio of some sort - ratio of income to capital or something."
   ]
  },
  {
   "cell_type": "code",
   "execution_count": null,
   "metadata": {
    "_uuid": "5d3e2ea8d9cd228eba67ecd86782c3be9ba9938d"
   },
   "outputs": [],
   "source": [
    "# Take a look at our loaded data to ensure all is in order\n",
    "companies.head()\n",
    "\n",
    "# Print some summaries and checks\n",
    "\n",
    " # shape\n",
    "print(companies.shape)\n",
    "\n",
    "# dtypes\n",
    "print(companies.iloc[:5,:5].dtypes)\n",
    "\n",
    "# check for nulls\n",
    "print(companies.iloc[:5,:5].isnull().any())\n",
    "\n",
    "# Describe\n",
    "print(companies.describe(percentiles=[0.25,0.5,0.75,0.99]))"
   ]
  },
  {
   "cell_type": "markdown",
   "metadata": {
    "_uuid": "7174b38ac376bb3130c19d9eb32ce44cdf72bcfd"
   },
   "source": [
    "Hm. Features x1, x7, and x81 look a little funny in terms of their maxes being much higher than their 99th percentile. If we knew what these features were we could have a decent interpretation, but unfortunately we do not."
   ]
  },
  {
   "cell_type": "markdown",
   "metadata": {
    "_uuid": "eaeee10fc0390c0ae72e2c723d8edf117f19bb60"
   },
   "source": [
    "# Quick validity checks\n",
    "\n",
    "Get number of unique companies.\n",
    "\n",
    "Check how many of these companies ever reach a distressed state (should be 136 by Kaggle description).\n",
    "\n",
    "Get a list of feature names."
   ]
  },
  {
   "cell_type": "code",
   "execution_count": null,
   "metadata": {
    "_uuid": "8d2e90daed65042f005ecf380cd4c1fd4fb4675e"
   },
   "outputs": [],
   "source": [
    "total_n = len(companies.groupby('company')['company'].nunique())\n",
    "print(total_n)\n",
    "\n",
    "distress_companies = companies[companies['financial_distress'] < -0.5]\n",
    "u_distress = distress_companies['company'].unique()\n",
    "print(u_distress.shape)\n",
    "\n",
    "feature_names = list(companies.columns.values)[3:] # ignore first 3: company, time, financial_distress\n",
    "print(feature_names)"
   ]
  },
  {
   "cell_type": "markdown",
   "metadata": {
    "_uuid": "2c211a8281d492957bc886f51694f3482507358f"
   },
   "source": [
    "# We know feature 80 is categorical...\n",
    "...so let's pull it out as a list for use later."
   ]
  },
  {
   "cell_type": "code",
   "execution_count": null,
   "metadata": {
    "_uuid": "aab0c875964842f234a5993d42a1f6b105dc2701"
   },
   "outputs": [],
   "source": [
    "f80 = list(companies.groupby('company')['x80'].agg('mean'))\n",
    "f80 = [int(c) for c in f80]\n",
    "\n",
    "# print(f80)\n",
    "# print(len(f80))"
   ]
  },
  {
   "cell_type": "markdown",
   "metadata": {
    "_uuid": "b580397ee21557c39005aad58bef24e2dc573bcb"
   },
   "source": [
    "# Temporal cross validation: how to do it?\n",
    "\n",
    "Let's follow the guidance set out in https://github.com/dssg/hitchhikers-guide/blob/master/curriculum/3_modeling_and_machine_learning/temporal-cross-validation/temporal_cross_validation_slides.pdf.\n",
    "\n",
    "In order to pick a good date to separate train/test, we should ideally pick a date that allows most entities to appear in both the train and test data.\n",
    "\n",
    "Unfortunately not all the companies live for the same amount of time, so if we pick a date that is too early or late, we may cut many of the companies out of the test set.\n",
    "\n",
    "Let's generate a histogram of counts for each time period so we can pick a reasonable place to cut."
   ]
  },
  {
   "cell_type": "code",
   "execution_count": null,
   "metadata": {
    "_uuid": "29d5838596d1e43f1164feebcc1cf7c8cdb3e68f"
   },
   "outputs": [],
   "source": [
    "companies.hist(column=['time'], bins=14)"
   ]
  },
  {
   "cell_type": "markdown",
   "metadata": {
    "_uuid": "ce4e0740e53ebb37840aae57b1fa36be03863b5d"
   },
   "source": [
    "We notice a bit of a decline, then uptick in the histogram around time period 10.\n",
    "\n",
    "Declines imply that a company dies out of the dataset, so if we set our cut around t=10, we should still get a decent number of distress events in the training data."
   ]
  },
  {
   "cell_type": "code",
   "execution_count": null,
   "metadata": {
    "_uuid": "43f6243f87f8d4fd5a2b4da72aab8bd3039f7c9d"
   },
   "outputs": [],
   "source": [
    "# We can see from this that most companies start at time period 1, \n",
    "# but there are some which start their life much later.\n",
    "\n",
    "# print(companies.groupby(['company'])['time'].agg('min'))"
   ]
  },
  {
   "cell_type": "markdown",
   "metadata": {
    "_uuid": "6ee90ca3406faf08e45317964e3c0f52238c5944"
   },
   "source": [
    "# Does distress occur uniformly over time periods?"
   ]
  },
  {
   "cell_type": "code",
   "execution_count": null,
   "metadata": {
    "_uuid": "59eb79eed2d009b994db794707964283a925875f"
   },
   "outputs": [],
   "source": [
    "# What about the histogram of the timestamps when the distress event occurs?\n",
    "distress_companies.hist(column=['time'], bins=14)"
   ]
  },
  {
   "cell_type": "markdown",
   "metadata": {
    "_uuid": "a8f815d5c69c1b439ee9acaea2f2654237be3da8"
   },
   "source": [
    "Interesting...the frequency of distress definitely does not seem to be uniform across the time periods. \n",
    "\n",
    "That indicates that it may be bad science to obtain validation or test sets by simply picking out some companies, as we cannot assume that different companies are independent. The timestamp itself may be a useful signal (i.e. if a certain time period represents a macroeconomic state of decline for a certain industry, or the economy as a whole). Ok then, onto..."
   ]
  },
  {
   "cell_type": "markdown",
   "metadata": {
    "_uuid": "57df802fe7aebc28001075275bceffcce42f966c"
   },
   "source": [
    "# ...roll-forward cross validation\n",
    "\n",
    "We'll now output a new set of features per training row: sum over each feature during time t, t-1, t-2...t-n. Note that this differs from the average by a constant, so while these features may represent something that shouldn't be summed (like average \"Google maps rating\" - I don't know), it'll just get normalized out later.\n",
    "\n",
    "The training targets will be whether or not a distress event occured at the end of the period (t)."
   ]
  },
  {
   "cell_type": "code",
   "execution_count": null,
   "metadata": {
    "_uuid": "3b19689cfde9028ff9d8358c09b6b5f969c19838"
   },
   "outputs": [],
   "source": [
    "# Generate new train/val/test sets.\n",
    "\n",
    "# Populate the entire pandas array into a dict for easier processing\n",
    "\n",
    "datadict = {}\n",
    "distress_dict = {}\n",
    "\n",
    "for i in range (1, total_n+1):\n",
    "    datadict[i] = {}\n",
    "    distress_dict[i] = {}\n",
    "\n",
    "print(\"Populating dictionary...\")\n",
    "for idx, row in companies.iterrows():\n",
    "    company = row['company']\n",
    "    time = int(row['time'])\n",
    "    \n",
    "    datadict[company][time] = {}\n",
    "    \n",
    "    if row['financial_distress'] < -0.5:\n",
    "        distress_dict[company][time] = 1\n",
    "    else:\n",
    "        distress_dict[company][time] = 0\n",
    "        \n",
    "    for feat_idx, column in enumerate(row[3:]):\n",
    "        feat = feature_names[feat_idx]\n",
    "        datadict[company][time][feat] = column\n",
    "        \n",
    "# print('Dict population complete. Sample below:')\n",
    "# print(\"\\nData for company 1, time 1:\")\n",
    "# print(datadict[1][1])\n",
    "\n",
    "# print(\"\\nDistress history for company 1:\")\n",
    "# print(distress_dict[1])\n",
    "\n",
    "print('We can encode categorical feature 80 as a one-hot vector with this many dimensions:')\n",
    "print(len(list(set(f80))))\n",
    "\n",
    "label_binarizer = LabelBinarizer()\n",
    "label_binarizer.fit(range(max(f80)))\n",
    "f80_oh = label_binarizer.transform(f80)\n",
    "\n",
    "# print(f80_oh[0:5])"
   ]
  },
  {
   "cell_type": "markdown",
   "metadata": {
    "_uuid": "f70c302ac44f5eed766b3208e03c3187e062c15b"
   },
   "source": [
    "# Data generation"
   ]
  },
  {
   "cell_type": "code",
   "execution_count": null,
   "metadata": {
    "_uuid": "cf0e9662a8b4d913b36e1db107a7b9f1f1cf5f92"
   },
   "outputs": [],
   "source": [
    "# Make new features as np array. We'll even add x80 back!\n",
    "\n",
    "def rolling_operation(time, train_array, datadict, distress_dict, feature_names, total_n,\n",
    "                         lookback_periods):\n",
    "\n",
    "    for company in range(1, total_n+1):\n",
    "            \n",
    "            all_periods_exist = True\n",
    "            for j in range(0, lookback_periods):\n",
    "                if not time-j in distress_dict[company]:\n",
    "                    all_periods_exist = False\n",
    "            if not all_periods_exist:\n",
    "                continue\n",
    "            \n",
    "            distress_at_eop = distress_dict[company][time]\n",
    "            new_row = [company]\n",
    "\n",
    "            for feature in feature_names:\n",
    "                if feature == 'x80':\n",
    "                    continue\n",
    "                feat_sum = 0.0\n",
    "                variance_arr = []\n",
    "                for j in range(0, lookback_periods):\n",
    "                    feat_sum += datadict[company][time-j][feature]\n",
    "                    variance_arr.append(datadict[company][time-j][feature])\n",
    "                new_row.append(feat_sum)\n",
    "                new_row.append(np.var(variance_arr))\n",
    "                \n",
    "            for j in range(0,len(f80_oh[0])):\n",
    "                new_row.append(f80_oh[company-1][j])\n",
    "\n",
    "            if len(new_row) == ((len(feature_names)-1)*2 + 1 + len(f80_oh[0])) : # we have a complete row\n",
    "                new_row.append(distress_at_eop)\n",
    "                new_row_np = np.asarray(new_row)\n",
    "                train_array.append(new_row_np)\n",
    "    \n",
    "\n",
    "def custom_timeseries_cv(datadict, distress_dict, feature_names, total_n, val_time, test_time, \n",
    "                         lookback_periods, total_periods=14):\n",
    "\n",
    "    # Train data\n",
    "    train_array = []\n",
    "    for _t in range(1, val_time+1):\n",
    "        time = (val_time+1) -_t # Start from time period 10 and work backwards\n",
    "        train_array_np = rolling_operation(time, train_array, datadict, distress_dict, feature_names, total_n,\n",
    "                         lookback_periods)\n",
    "\n",
    "    train_array_np = np.asarray(train_array)\n",
    "    print(train_array_np.shape)\n",
    "    # print(train_array_np[0])\n",
    "    \n",
    "    # Val data\n",
    "    if val_time != test_time:\n",
    "        val_array = []\n",
    "        for time in range(val_time+1, test_time+1):\n",
    "            val_array_np = rolling_operation(time, val_array, datadict, distress_dict, feature_names, total_n,\n",
    "                         lookback_periods)\n",
    "\n",
    "        val_array_np = np.asarray(val_array)\n",
    "        print(val_array_np.shape)\n",
    "        # print(val_array_np[0])\n",
    "    else:\n",
    "        val_array_np = None\n",
    "\n",
    "    # Test data\n",
    "    test_array = []\n",
    "    # start from time period 11 and work forwards\n",
    "    for time in range(test_time+1,total_periods+1):\n",
    "        test_array_np = rolling_operation(time, test_array, datadict, distress_dict, feature_names, total_n,\n",
    "                         lookback_periods)\n",
    "\n",
    "    test_array_np = np.asarray(test_array)\n",
    "    print(test_array_np.shape)\n",
    "    # print(test_array_np[0])\n",
    "    \n",
    "    return train_array_np, val_array_np, test_array_np\n",
    "\n",
    "# Generate our sets\n",
    "train_array_np, val_array_np, test_array_np = custom_timeseries_cv(datadict, distress_dict, feature_names, total_n,\n",
    "                                                     val_time=9, test_time=12, lookback_periods=3, total_periods=14)"
   ]
  },
  {
   "cell_type": "markdown",
   "metadata": {
    "_uuid": "cb8aa8f9181a740bd5ef727051e821e8669e1e9c"
   },
   "source": [
    "# Pull out last column as labels\n",
    "\n"
   ]
  },
  {
   "cell_type": "code",
   "execution_count": null,
   "metadata": {
    "_uuid": "e1f9cb1890dbccd8356245babfbcc0065c5d38b6"
   },
   "outputs": [],
   "source": [
    "X_train = train_array_np[:,0:train_array_np.shape[1]-1]\n",
    "y_train = train_array_np[:,-1].astype(int)\n",
    "\n",
    "X_val = val_array_np[:,0:val_array_np.shape[1]-1]\n",
    "y_val = val_array_np[:,-1].astype(int)\n",
    "\n",
    "X_test = test_array_np[:,0:test_array_np.shape[1]-1]\n",
    "y_test = test_array_np[:,-1].astype(int)\n",
    "\n",
    "np.set_printoptions(threshold=sys.maxsize)\n",
    "print(X_train[0,:])\n",
    "print(y_train)\n",
    "\n",
    "print(X_val[0,:])\n",
    "print(y_val)\n",
    "\n",
    "print(X_test[0,:])\n",
    "print(y_test)"
   ]
  },
  {
   "cell_type": "markdown",
   "metadata": {
    "_uuid": "6f6628e3c178481f24454bd8e4141c640a0bde73"
   },
   "source": [
    "# Now try some models! Just the super basic, intro on Udacity stuff. :)"
   ]
  },
  {
   "cell_type": "code",
   "execution_count": null,
   "metadata": {
    "_uuid": "941348becb664b6c178f9640b2be9b0f6c234d1e"
   },
   "outputs": [],
   "source": [
    "# Try a couple of different basic classification models\n",
    "\n",
    "from sklearn.linear_model import Ridge, LogisticRegression\n",
    "from sklearn.tree import DecisionTreeClassifier\n",
    "from sklearn.ensemble import RandomForestClassifier\n",
    "\n",
    "def model_trial(model_type, hyperparam):\n",
    "    if model_type in ['logistic-regression']:\n",
    "        # Logistic Regression. Try 11, l2 penalty, understand one-vs-rest vs multinomial (cross-entropy) \n",
    "        model = LogisticRegression(penalty=hyperparam, solver='saga', max_iter=4000)\n",
    "    elif model_type in ['decision-tree']:\n",
    "        model = DecisionTreeClassifier(criterion='entropy', splitter='best', max_depth=None)\n",
    "    elif model_type in ['random-forest']:\n",
    "        model = RandomForestClassifier(n_estimators=hyperparam)\n",
    "    else:\n",
    "        print(\"Warning: model {} not recognized.\".format(model_type))\n",
    "        \n",
    "    model.fit(X_train, y_train)\n",
    "    y_pred = model.predict(X_val)\n",
    "\n",
    "    f1 = f1_score(y_val, y_pred)\n",
    "    recall = recall_score(y_val, y_pred)\n",
    "    print(\"Mean acc: %f\" % model.score(X_val, y_val))\n",
    "    print(\"F1: %f\" % f1)\n",
    "    print(\"Recall: %f\" % recall)"
   ]
  },
  {
   "cell_type": "code",
   "execution_count": null,
   "metadata": {
    "_uuid": "5e9cb88673cbeee8f6291fd97d8d48be178ae9f8",
    "scrolled": true
   },
   "outputs": [],
   "source": [
    "print(\"-\"*20 + \"Logistic regression, l1:\" + \"-\"*20)\n",
    "model_trial('logistic-regression', 'l1')\n",
    "\n",
    "print(\"-\"*20 + \"Logistic regression, l2:\" + \"-\"*20)\n",
    "model_trial('logistic-regression', 'l2')\n",
    "\n",
    "print(\"-\"*20 + \"Decision tree:\" + \"-\"*20)\n",
    "model_trial('decision-tree', None)\n",
    "\n",
    "for i in [2, 4, 10, 50, 100, 1000]:\n",
    "    print(\"-\"*20 + \"Random forest, {} estimators:\".format(i) + \"-\"*20)\n",
    "    model_trial('random-forest', i)\n"
   ]
  }
 ],
 "metadata": {
  "kernelspec": {
   "display_name": "Python 3",
   "language": "python",
   "name": "python3"
  },
  "language_info": {
   "codemirror_mode": {
    "name": "ipython",
    "version": 3
   },
   "file_extension": ".py",
   "mimetype": "text/x-python",
   "name": "python",
   "nbconvert_exporter": "python",
   "pygments_lexer": "ipython3",
   "version": "3.7.4"
  }
 },
 "nbformat": 4,
 "nbformat_minor": 1
}
