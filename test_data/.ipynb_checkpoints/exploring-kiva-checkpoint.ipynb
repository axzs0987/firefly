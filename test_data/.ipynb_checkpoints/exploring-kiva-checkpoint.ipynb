{
 "cells": [
  {
   "cell_type": "code",
   "execution_count": 2,
   "metadata": {
    "_uuid": "26861fbf3a91bab55aa30c1d74fe835c00ab8872",
    "collapsed": true
   },
   "outputs": [],
   "source": [
    "import pandas as pd \n",
    "import numpy as np \n",
    "import matplotlib.pyplot as plt\n",
    "import seaborn as sns\n",
    "%matplotlib inline"
   ]
  },
  {
   "cell_type": "code",
   "execution_count": 3,
   "metadata": {
    "_uuid": "05a04c0e88bb489b0c05368431ead7aeb302433c",
    "collapsed": true
   },
   "outputs": [],
   "source": [
    "kiva_loan = pd.read_csv('../input/kiva_loans.csv')"
   ]
  },
  {
   "cell_type": "code",
   "execution_count": 4,
   "metadata": {
    "_uuid": "5a5b3e152edb338d7b8e6001bcced6dc623e38cf"
   },
   "outputs": [],
   "source": [
    "pd.isnull(kiva_loan).any()"
   ]
  },
  {
   "cell_type": "code",
   "execution_count": 5,
   "metadata": {
    "_uuid": "c97eb5ddca9da783fd22dddaa87262390e284201"
   },
   "outputs": [],
   "source": [
    "kiva_loan.head()"
   ]
  },
  {
   "cell_type": "code",
   "execution_count": 6,
   "metadata": {
    "_uuid": "fa1739b52fe4aa19eb26892549bd80df189ca93a"
   },
   "outputs": [],
   "source": [
    "kiva_loan.describe()"
   ]
  },
  {
   "cell_type": "markdown",
   "metadata": {
    "_uuid": "bd31720a13611b5e36a7f7adb1536dd5ff691062"
   },
   "source": [
    "The median amount of loan on Kiva is 450 dollars . The minimum loan amaount is 25 dollars  and the maximum loan amaount is 100000 dollars. We can also tell that on average each loan has 20 contributors. The average  number of months a loan is expected to be paid back is 13 and the maximum amount of time was 158 months while the minimum amount of time is one month."
   ]
  },
  {
   "cell_type": "code",
   "execution_count": 7,
   "metadata": {
    "_uuid": "5be4dc5d3a223c01edd2fe71b72d1ac1c21e9e63"
   },
   "outputs": [],
   "source": [
    "sns.countplot(data=kiva_loan, y='sector')"
   ]
  },
  {
   "cell_type": "markdown",
   "metadata": {
    "_uuid": "60204aab9ef3b85a318cd92c2fd8242bc09b244d"
   },
   "source": [
    "The majority of people who have gotten loans on Kiva are in Agriculture and food sectors which are very much related. The third sector is Retail. "
   ]
  },
  {
   "cell_type": "code",
   "execution_count": 8,
   "metadata": {
    "_uuid": "2e8dbde0bd4f7bceb590db89bc5ba199beff87c3"
   },
   "outputs": [],
   "source": [
    "kiva_loan['country'].nunique()"
   ]
  },
  {
   "cell_type": "markdown",
   "metadata": {
    "_uuid": "3c21dd47b0b4de4efc3a1669f0c8f8ca63132265"
   },
   "source": [
    "This dataset has records from 87 different countiries."
   ]
  },
  {
   "cell_type": "code",
   "execution_count": 9,
   "metadata": {
    "_uuid": "90b35f9d5aa002fae6e9b647685835f1820b2b9e"
   },
   "outputs": [],
   "source": [
    "kiva_loan['country'].unique()"
   ]
  },
  {
   "cell_type": "markdown",
   "metadata": {
    "_uuid": "5d282fa063713c61d1d31d29cd122bf30bb39bff"
   },
   "source": [
    "I am very curious to know which of these nations have the largest loan amount."
   ]
  },
  {
   "cell_type": "code",
   "execution_count": 10,
   "metadata": {
    "_uuid": "0bad5ad1779a7c54d8d820d322d900ac156ead49"
   },
   "outputs": [],
   "source": [
    "loan_amount_by_nation = kiva_loan.groupby('country')['funded_amount'].sum().reset_index()\n",
    "loan_amount_by_nation.columns = ['Country','Total Amount']\n",
    "loan_df = loan_amount_by_nation.sort_values(by='Total Amount',ascending=False)\n",
    "loan_df.head(10)"
   ]
  },
  {
   "cell_type": "markdown",
   "metadata": {
    "_uuid": "71585a996fdc9f173e1c9af4726b16b742d5c78a"
   },
   "source": [
    "Philippines is leading woth the total number of loans at 54476375 dollars follolwed closely by the Republic of Kenya at 32248405, Peru and Paraguay. The figure below represents the top 10 borrowers. "
   ]
  },
  {
   "cell_type": "code",
   "execution_count": 11,
   "metadata": {
    "_uuid": "1c279365e1b3843c6f07a19556fb8a6df1c926e7"
   },
   "outputs": [],
   "source": [
    "plt.figure(figsize=(12,6))\n",
    "sns.barplot(data=loan_df.head(10),x='Country',y='Total Amount')"
   ]
  },
  {
   "cell_type": "markdown",
   "metadata": {
    "_uuid": "b4f5a014bb824c2c89e06230a8e9ce1d75120bfa"
   },
   "source": [
    "I would also like to know the last 10 borrowers"
   ]
  },
  {
   "cell_type": "code",
   "execution_count": 12,
   "metadata": {
    "_uuid": "90f6179d0e50b6b7d8da6a3f1bfda7a96f8a3828"
   },
   "outputs": [],
   "source": [
    "plt.figure(figsize=(12,6))\n",
    "sns.barplot(data=loan_df.tail(10),x='Country',y='Total Amount')"
   ]
  },
  {
   "cell_type": "markdown",
   "metadata": {
    "_uuid": "93b5f9d4687f91d933a44990401cf6ea4e9c3e45"
   },
   "source": [
    "Which sector are most of the borrowers in from the top nation?"
   ]
  },
  {
   "cell_type": "code",
   "execution_count": 13,
   "metadata": {
    "_uuid": "88c46ad051046ee6a5dd54ed2f4aabdc8d75ce6a",
    "collapsed": true
   },
   "outputs": [],
   "source": [
    "phil = kiva_loan[kiva_loan['country'] == 'Philippines']"
   ]
  },
  {
   "cell_type": "code",
   "execution_count": 14,
   "metadata": {
    "_uuid": "9826c9bff064bb5684e0424d12f2c477306eeaa9"
   },
   "outputs": [],
   "source": [
    "sns.countplot(data=phil,y='sector')"
   ]
  },
  {
   "cell_type": "markdown",
   "metadata": {
    "_uuid": "af9c9f8a0f638b26647d67c493d0c30ba50f3e85"
   },
   "source": [
    "In Philippinesmost of the borrowers are in Retail, food and agriculture follow closely"
   ]
  },
  {
   "cell_type": "code",
   "execution_count": 15,
   "metadata": {
    "_uuid": "928c6973b596de743d22a8f2d091ce66c38c03a5",
    "collapsed": true
   },
   "outputs": [],
   "source": [
    "ke = kiva_loan[kiva_loan['country'] == 'Kenya']"
   ]
  },
  {
   "cell_type": "code",
   "execution_count": 16,
   "metadata": {
    "_uuid": "6a0c49637c3edf74d16c70538bbcdb2e2e409d44"
   },
   "outputs": [],
   "source": [
    "sns.countplot(data=ke,y='sector')"
   ]
  },
  {
   "cell_type": "markdown",
   "metadata": {
    "_uuid": "732118566f9ac6116fafa7401f9e178e4e6ac15e"
   },
   "source": [
    "In Kenya most of the borrowers are in Agricture. It would probably be good idea for KIva to come up with products that are specifically targeted towards people who are in food and agriculture since they form majority of the borrowers. "
   ]
  },
  {
   "cell_type": "code",
   "execution_count": 17,
   "metadata": {
    "_uuid": "43cb93e7f0f63e98852e8137613897c70e6823bd"
   },
   "outputs": [],
   "source": [
    "region_count = ke.groupby('region')['funded_amount'].sum().reset_index()\n",
    "region_count.columns= ['Region','Total Amount Funded']\n",
    "region_count.sort_values(by='Total Amount Funded',ascending=False).head(10)\n"
   ]
  },
  {
   "cell_type": "markdown",
   "metadata": {
    "_uuid": "c5543df277a3b1e4a50941e5eb15d392c646fc11"
   },
   "source": [
    "It is not surprising that Webuye is leading, owing to the fact that is known for subsistence farming in Kenya."
   ]
  },
  {
   "cell_type": "code",
   "execution_count": 18,
   "metadata": {
    "_uuid": "abdc4737caa83b4b5bae90ec8cfcafdca7556ed0"
   },
   "outputs": [],
   "source": [
    "piv = ke.pivot_table(columns=['region','sector'],aggfunc='count')\n",
    "piv"
   ]
  },
  {
   "cell_type": "markdown",
   "metadata": {
    "_uuid": "ac05faf00420178efd285eb5522f76832933b7d0"
   },
   "source": [
    "I am curious to see the most used words in activity and use"
   ]
  },
  {
   "cell_type": "code",
   "execution_count": 19,
   "metadata": {
    "_uuid": "b572962a9a072a6e918d5f4481abaf6e57636de3"
   },
   "outputs": [],
   "source": [
    "from wordcloud import WordCloud, STOPWORDS\n",
    "corpus = ' '.join(kiva_loan['activity'])\n",
    "corpus = corpus.replace('.', '. ')\n",
    "wordcloud = WordCloud(stopwords=STOPWORDS, background_color='white',width=2400,height=2000).generate(corpus)\n",
    "plt.figure(figsize=(12,15))\n",
    "plt.imshow(wordcloud)\n",
    "plt.axis('off')\n",
    "plt.show()"
   ]
  },
  {
   "cell_type": "markdown",
   "metadata": {
    "_uuid": "6c84417ad985773dba989e7bca7d8a5fe0b10043"
   },
   "source": [
    "We ealrier noticed that agriculture was leading in the number of loans, it is not suprising that Agricultural related activities such as farming and production appear many times."
   ]
  },
  {
   "cell_type": "code",
   "execution_count": 20,
   "metadata": {
    "_uuid": "913832b4e7573309c2216b62ec8ed232f841abb9"
   },
   "outputs": [],
   "source": [
    "from wordcloud import WordCloud, STOPWORDS\n",
    "corpus = ' '.join(kiva_loan['use'].astype(str))\n",
    "corpus = corpus.replace('.', '. ')\n",
    "wordcloud = WordCloud(stopwords=STOPWORDS, background_color='white',width=2400,height=2000).generate(corpus)\n",
    "plt.figure(figsize=(12,15))\n",
    "plt.imshow(wordcloud)\n",
    "plt.axis('off')\n",
    "plt.show()"
   ]
  },
  {
   "cell_type": "markdown",
   "metadata": {
    "_uuid": "b863f566b6c35542842c73daa6bf640743e8b2ed"
   },
   "source": [
    "Most of the loans were used for business like activities like buying and selling. For example buying fertilizer, selling gloceries and purchasing additional stock"
   ]
  },
  {
   "cell_type": "markdown",
   "metadata": {
    "_uuid": "5672310ae7f41f4694f227e039ce42fed681eee1"
   },
   "source": [
    "More on the way..."
   ]
  },
  {
   "cell_type": "code",
   "execution_count": null,
   "metadata": {
    "_uuid": "4c672b8ff5dd77d567910340f27b5b9244258d8b",
    "collapsed": true
   },
   "outputs": [],
   "source": []
  }
 ],
 "metadata": {
  "kernelspec": {
   "display_name": "Python 3",
   "language": "python",
   "name": "python3"
  },
  "language_info": {
   "codemirror_mode": {
    "name": "ipython",
    "version": 3
   },
   "file_extension": ".py",
   "mimetype": "text/x-python",
   "name": "python",
   "nbconvert_exporter": "python",
   "pygments_lexer": "ipython3",
   "version": "3.7.4"
  }
 },
 "nbformat": 4,
 "nbformat_minor": 1
}
